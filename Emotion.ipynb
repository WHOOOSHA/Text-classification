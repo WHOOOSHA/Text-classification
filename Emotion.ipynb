{
  "nbformat": 4,
  "nbformat_minor": 0,
  "metadata": {
    "colab": {
      "provenance": [],
      "gpuType": "T4"
    },
    "kernelspec": {
      "name": "python3",
      "display_name": "Python 3"
    },
    "language_info": {
      "name": "python"
    },
    "accelerator": "GPU"
  },
  "cells": [
    {
      "cell_type": "markdown",
      "source": [
        "# **Begin**"
      ],
      "metadata": {
        "id": "7gb4C-QHs0U3"
      }
    },
    {
      "cell_type": "code",
      "execution_count": null,
      "metadata": {
        "colab": {
          "base_uri": "https://localhost:8080/"
        },
        "id": "1pMKd9drD3AF",
        "outputId": "d765c878-1eff-430e-d8a6-9558bf18425c"
      },
      "outputs": [
        {
          "output_type": "stream",
          "name": "stdout",
          "text": [
            "Warning: Looks like you're using an outdated `kagglehub` version, please consider updating (latest version: 0.3.4)\n",
            "Path to dataset files: /root/.cache/kagglehub/datasets/praveengovi/emotions-dataset-for-nlp/versions/1\n"
          ]
        }
      ],
      "source": [
        "import kagglehub\n",
        "\n",
        "# Download latest version\n",
        "path = kagglehub.dataset_download(\"praveengovi/emotions-dataset-for-nlp\")\n",
        "\n",
        "print(\"Path to dataset files:\", path)"
      ]
    },
    {
      "cell_type": "code",
      "source": [
        "import pandas as pd\n",
        "\n",
        "train_file = pd.read_csv(path + '/train.txt', sep = ';', names=['text', 'emotion'])\n",
        "val_file = pd.read_csv(path + '/val.txt', sep = ';', names=['text', 'emotion'])\n",
        "\n",
        "train_file.head(5)"
      ],
      "metadata": {
        "colab": {
          "base_uri": "https://localhost:8080/"
        },
        "id": "ZmL4wWVmD_r4",
        "outputId": "30042732-aa16-4d83-b1a0-b685cd267a61"
      },
      "execution_count": null,
      "outputs": [
        {
          "output_type": "execute_result",
          "data": {
            "text/plain": [
              "                                                text  emotion\n",
              "0                            i didnt feel humiliated  sadness\n",
              "1  i can go from feeling so hopeless to so damned...  sadness\n",
              "2   im grabbing a minute to post i feel greedy wrong    anger\n",
              "3  i am ever feeling nostalgic about the fireplac...     love\n",
              "4                               i am feeling grouchy    anger"
            ],
            "text/html": [
              "\n",
              "  <div id=\"df-32c40c1c-53a8-4b76-845c-e8436ed60b8a\" class=\"colab-df-container\">\n",
              "    <div>\n",
              "<style scoped>\n",
              "    .dataframe tbody tr th:only-of-type {\n",
              "        vertical-align: middle;\n",
              "    }\n",
              "\n",
              "    .dataframe tbody tr th {\n",
              "        vertical-align: top;\n",
              "    }\n",
              "\n",
              "    .dataframe thead th {\n",
              "        text-align: right;\n",
              "    }\n",
              "</style>\n",
              "<table border=\"1\" class=\"dataframe\">\n",
              "  <thead>\n",
              "    <tr style=\"text-align: right;\">\n",
              "      <th></th>\n",
              "      <th>text</th>\n",
              "      <th>emotion</th>\n",
              "    </tr>\n",
              "  </thead>\n",
              "  <tbody>\n",
              "    <tr>\n",
              "      <th>0</th>\n",
              "      <td>i didnt feel humiliated</td>\n",
              "      <td>sadness</td>\n",
              "    </tr>\n",
              "    <tr>\n",
              "      <th>1</th>\n",
              "      <td>i can go from feeling so hopeless to so damned...</td>\n",
              "      <td>sadness</td>\n",
              "    </tr>\n",
              "    <tr>\n",
              "      <th>2</th>\n",
              "      <td>im grabbing a minute to post i feel greedy wrong</td>\n",
              "      <td>anger</td>\n",
              "    </tr>\n",
              "    <tr>\n",
              "      <th>3</th>\n",
              "      <td>i am ever feeling nostalgic about the fireplac...</td>\n",
              "      <td>love</td>\n",
              "    </tr>\n",
              "    <tr>\n",
              "      <th>4</th>\n",
              "      <td>i am feeling grouchy</td>\n",
              "      <td>anger</td>\n",
              "    </tr>\n",
              "  </tbody>\n",
              "</table>\n",
              "</div>\n",
              "    <div class=\"colab-df-buttons\">\n",
              "\n",
              "  <div class=\"colab-df-container\">\n",
              "    <button class=\"colab-df-convert\" onclick=\"convertToInteractive('df-32c40c1c-53a8-4b76-845c-e8436ed60b8a')\"\n",
              "            title=\"Convert this dataframe to an interactive table.\"\n",
              "            style=\"display:none;\">\n",
              "\n",
              "  <svg xmlns=\"http://www.w3.org/2000/svg\" height=\"24px\" viewBox=\"0 -960 960 960\">\n",
              "    <path d=\"M120-120v-720h720v720H120Zm60-500h600v-160H180v160Zm220 220h160v-160H400v160Zm0 220h160v-160H400v160ZM180-400h160v-160H180v160Zm440 0h160v-160H620v160ZM180-180h160v-160H180v160Zm440 0h160v-160H620v160Z\"/>\n",
              "  </svg>\n",
              "    </button>\n",
              "\n",
              "  <style>\n",
              "    .colab-df-container {\n",
              "      display:flex;\n",
              "      gap: 12px;\n",
              "    }\n",
              "\n",
              "    .colab-df-convert {\n",
              "      background-color: #E8F0FE;\n",
              "      border: none;\n",
              "      border-radius: 50%;\n",
              "      cursor: pointer;\n",
              "      display: none;\n",
              "      fill: #1967D2;\n",
              "      height: 32px;\n",
              "      padding: 0 0 0 0;\n",
              "      width: 32px;\n",
              "    }\n",
              "\n",
              "    .colab-df-convert:hover {\n",
              "      background-color: #E2EBFA;\n",
              "      box-shadow: 0px 1px 2px rgba(60, 64, 67, 0.3), 0px 1px 3px 1px rgba(60, 64, 67, 0.15);\n",
              "      fill: #174EA6;\n",
              "    }\n",
              "\n",
              "    .colab-df-buttons div {\n",
              "      margin-bottom: 4px;\n",
              "    }\n",
              "\n",
              "    [theme=dark] .colab-df-convert {\n",
              "      background-color: #3B4455;\n",
              "      fill: #D2E3FC;\n",
              "    }\n",
              "\n",
              "    [theme=dark] .colab-df-convert:hover {\n",
              "      background-color: #434B5C;\n",
              "      box-shadow: 0px 1px 3px 1px rgba(0, 0, 0, 0.15);\n",
              "      filter: drop-shadow(0px 1px 2px rgba(0, 0, 0, 0.3));\n",
              "      fill: #FFFFFF;\n",
              "    }\n",
              "  </style>\n",
              "\n",
              "    <script>\n",
              "      const buttonEl =\n",
              "        document.querySelector('#df-32c40c1c-53a8-4b76-845c-e8436ed60b8a button.colab-df-convert');\n",
              "      buttonEl.style.display =\n",
              "        google.colab.kernel.accessAllowed ? 'block' : 'none';\n",
              "\n",
              "      async function convertToInteractive(key) {\n",
              "        const element = document.querySelector('#df-32c40c1c-53a8-4b76-845c-e8436ed60b8a');\n",
              "        const dataTable =\n",
              "          await google.colab.kernel.invokeFunction('convertToInteractive',\n",
              "                                                    [key], {});\n",
              "        if (!dataTable) return;\n",
              "\n",
              "        const docLinkHtml = 'Like what you see? Visit the ' +\n",
              "          '<a target=\"_blank\" href=https://colab.research.google.com/notebooks/data_table.ipynb>data table notebook</a>'\n",
              "          + ' to learn more about interactive tables.';\n",
              "        element.innerHTML = '';\n",
              "        dataTable['output_type'] = 'display_data';\n",
              "        await google.colab.output.renderOutput(dataTable, element);\n",
              "        const docLink = document.createElement('div');\n",
              "        docLink.innerHTML = docLinkHtml;\n",
              "        element.appendChild(docLink);\n",
              "      }\n",
              "    </script>\n",
              "  </div>\n",
              "\n",
              "\n",
              "<div id=\"df-32ac74c7-fdef-428e-b9f2-b91008c0372a\">\n",
              "  <button class=\"colab-df-quickchart\" onclick=\"quickchart('df-32ac74c7-fdef-428e-b9f2-b91008c0372a')\"\n",
              "            title=\"Suggest charts\"\n",
              "            style=\"display:none;\">\n",
              "\n",
              "<svg xmlns=\"http://www.w3.org/2000/svg\" height=\"24px\"viewBox=\"0 0 24 24\"\n",
              "     width=\"24px\">\n",
              "    <g>\n",
              "        <path d=\"M19 3H5c-1.1 0-2 .9-2 2v14c0 1.1.9 2 2 2h14c1.1 0 2-.9 2-2V5c0-1.1-.9-2-2-2zM9 17H7v-7h2v7zm4 0h-2V7h2v10zm4 0h-2v-4h2v4z\"/>\n",
              "    </g>\n",
              "</svg>\n",
              "  </button>\n",
              "\n",
              "<style>\n",
              "  .colab-df-quickchart {\n",
              "      --bg-color: #E8F0FE;\n",
              "      --fill-color: #1967D2;\n",
              "      --hover-bg-color: #E2EBFA;\n",
              "      --hover-fill-color: #174EA6;\n",
              "      --disabled-fill-color: #AAA;\n",
              "      --disabled-bg-color: #DDD;\n",
              "  }\n",
              "\n",
              "  [theme=dark] .colab-df-quickchart {\n",
              "      --bg-color: #3B4455;\n",
              "      --fill-color: #D2E3FC;\n",
              "      --hover-bg-color: #434B5C;\n",
              "      --hover-fill-color: #FFFFFF;\n",
              "      --disabled-bg-color: #3B4455;\n",
              "      --disabled-fill-color: #666;\n",
              "  }\n",
              "\n",
              "  .colab-df-quickchart {\n",
              "    background-color: var(--bg-color);\n",
              "    border: none;\n",
              "    border-radius: 50%;\n",
              "    cursor: pointer;\n",
              "    display: none;\n",
              "    fill: var(--fill-color);\n",
              "    height: 32px;\n",
              "    padding: 0;\n",
              "    width: 32px;\n",
              "  }\n",
              "\n",
              "  .colab-df-quickchart:hover {\n",
              "    background-color: var(--hover-bg-color);\n",
              "    box-shadow: 0 1px 2px rgba(60, 64, 67, 0.3), 0 1px 3px 1px rgba(60, 64, 67, 0.15);\n",
              "    fill: var(--button-hover-fill-color);\n",
              "  }\n",
              "\n",
              "  .colab-df-quickchart-complete:disabled,\n",
              "  .colab-df-quickchart-complete:disabled:hover {\n",
              "    background-color: var(--disabled-bg-color);\n",
              "    fill: var(--disabled-fill-color);\n",
              "    box-shadow: none;\n",
              "  }\n",
              "\n",
              "  .colab-df-spinner {\n",
              "    border: 2px solid var(--fill-color);\n",
              "    border-color: transparent;\n",
              "    border-bottom-color: var(--fill-color);\n",
              "    animation:\n",
              "      spin 1s steps(1) infinite;\n",
              "  }\n",
              "\n",
              "  @keyframes spin {\n",
              "    0% {\n",
              "      border-color: transparent;\n",
              "      border-bottom-color: var(--fill-color);\n",
              "      border-left-color: var(--fill-color);\n",
              "    }\n",
              "    20% {\n",
              "      border-color: transparent;\n",
              "      border-left-color: var(--fill-color);\n",
              "      border-top-color: var(--fill-color);\n",
              "    }\n",
              "    30% {\n",
              "      border-color: transparent;\n",
              "      border-left-color: var(--fill-color);\n",
              "      border-top-color: var(--fill-color);\n",
              "      border-right-color: var(--fill-color);\n",
              "    }\n",
              "    40% {\n",
              "      border-color: transparent;\n",
              "      border-right-color: var(--fill-color);\n",
              "      border-top-color: var(--fill-color);\n",
              "    }\n",
              "    60% {\n",
              "      border-color: transparent;\n",
              "      border-right-color: var(--fill-color);\n",
              "    }\n",
              "    80% {\n",
              "      border-color: transparent;\n",
              "      border-right-color: var(--fill-color);\n",
              "      border-bottom-color: var(--fill-color);\n",
              "    }\n",
              "    90% {\n",
              "      border-color: transparent;\n",
              "      border-bottom-color: var(--fill-color);\n",
              "    }\n",
              "  }\n",
              "</style>\n",
              "\n",
              "  <script>\n",
              "    async function quickchart(key) {\n",
              "      const quickchartButtonEl =\n",
              "        document.querySelector('#' + key + ' button');\n",
              "      quickchartButtonEl.disabled = true;  // To prevent multiple clicks.\n",
              "      quickchartButtonEl.classList.add('colab-df-spinner');\n",
              "      try {\n",
              "        const charts = await google.colab.kernel.invokeFunction(\n",
              "            'suggestCharts', [key], {});\n",
              "      } catch (error) {\n",
              "        console.error('Error during call to suggestCharts:', error);\n",
              "      }\n",
              "      quickchartButtonEl.classList.remove('colab-df-spinner');\n",
              "      quickchartButtonEl.classList.add('colab-df-quickchart-complete');\n",
              "    }\n",
              "    (() => {\n",
              "      let quickchartButtonEl =\n",
              "        document.querySelector('#df-32ac74c7-fdef-428e-b9f2-b91008c0372a button');\n",
              "      quickchartButtonEl.style.display =\n",
              "        google.colab.kernel.accessAllowed ? 'block' : 'none';\n",
              "    })();\n",
              "  </script>\n",
              "</div>\n",
              "    </div>\n",
              "  </div>\n"
            ],
            "application/vnd.google.colaboratory.intrinsic+json": {
              "type": "dataframe",
              "variable_name": "train_file",
              "summary": "{\n  \"name\": \"train_file\",\n  \"rows\": 16000,\n  \"fields\": [\n    {\n      \"column\": \"text\",\n      \"properties\": {\n        \"dtype\": \"string\",\n        \"num_unique_values\": 15969,\n        \"samples\": [\n          \"i feel rather imbicilic or at least complacent\",\n          \"i was in the bathroom i had sat down to pee it was to make me feel submissive again per instructions\",\n          \"i am thrilled with the way my skin and hair feel if you are like me you are skeptical\"\n        ],\n        \"semantic_type\": \"\",\n        \"description\": \"\"\n      }\n    },\n    {\n      \"column\": \"emotion\",\n      \"properties\": {\n        \"dtype\": \"category\",\n        \"num_unique_values\": 6,\n        \"samples\": [\n          \"sadness\",\n          \"anger\",\n          \"joy\"\n        ],\n        \"semantic_type\": \"\",\n        \"description\": \"\"\n      }\n    }\n  ]\n}"
            }
          },
          "metadata": {},
          "execution_count": 3
        }
      ]
    },
    {
      "cell_type": "code",
      "source": [
        "train_file['emotion'].value_counts()"
      ],
      "metadata": {
        "colab": {
          "base_uri": "https://localhost:8080/"
        },
        "id": "qRbOkgnkTp9_",
        "outputId": "c9c9e4fd-04c7-44d6-ee1e-5a1bd92dc03b"
      },
      "execution_count": null,
      "outputs": [
        {
          "output_type": "execute_result",
          "data": {
            "text/plain": [
              "emotion\n",
              "joy         5362\n",
              "sadness     4666\n",
              "anger       2159\n",
              "fear        1937\n",
              "love        1304\n",
              "surprise     572\n",
              "Name: count, dtype: int64"
            ],
            "text/html": [
              "<div>\n",
              "<style scoped>\n",
              "    .dataframe tbody tr th:only-of-type {\n",
              "        vertical-align: middle;\n",
              "    }\n",
              "\n",
              "    .dataframe tbody tr th {\n",
              "        vertical-align: top;\n",
              "    }\n",
              "\n",
              "    .dataframe thead th {\n",
              "        text-align: right;\n",
              "    }\n",
              "</style>\n",
              "<table border=\"1\" class=\"dataframe\">\n",
              "  <thead>\n",
              "    <tr style=\"text-align: right;\">\n",
              "      <th></th>\n",
              "      <th>count</th>\n",
              "    </tr>\n",
              "    <tr>\n",
              "      <th>emotion</th>\n",
              "      <th></th>\n",
              "    </tr>\n",
              "  </thead>\n",
              "  <tbody>\n",
              "    <tr>\n",
              "      <th>joy</th>\n",
              "      <td>5362</td>\n",
              "    </tr>\n",
              "    <tr>\n",
              "      <th>sadness</th>\n",
              "      <td>4666</td>\n",
              "    </tr>\n",
              "    <tr>\n",
              "      <th>anger</th>\n",
              "      <td>2159</td>\n",
              "    </tr>\n",
              "    <tr>\n",
              "      <th>fear</th>\n",
              "      <td>1937</td>\n",
              "    </tr>\n",
              "    <tr>\n",
              "      <th>love</th>\n",
              "      <td>1304</td>\n",
              "    </tr>\n",
              "    <tr>\n",
              "      <th>surprise</th>\n",
              "      <td>572</td>\n",
              "    </tr>\n",
              "  </tbody>\n",
              "</table>\n",
              "</div><br><label><b>dtype:</b> int64</label>"
            ]
          },
          "metadata": {},
          "execution_count": 4
        }
      ]
    },
    {
      "cell_type": "code",
      "source": [
        "train_file = train_file[~train_file['emotion'].str.contains('love')]\n",
        "train_file = train_file[~train_file['emotion'].str.contains('surprise')]"
      ],
      "metadata": {
        "id": "hQFw0upFT-mn"
      },
      "execution_count": null,
      "outputs": []
    },
    {
      "cell_type": "code",
      "source": [
        "val_file = val_file[~val_file['emotion'].str.contains('love')]\n",
        "val_file = val_file[~val_file['emotion'].str.contains('surprise')]"
      ],
      "metadata": {
        "id": "HC9LvzaBUmNZ"
      },
      "execution_count": null,
      "outputs": []
    },
    {
      "cell_type": "code",
      "source": [
        "train_file['emotion'].value_counts()"
      ],
      "metadata": {
        "colab": {
          "base_uri": "https://localhost:8080/"
        },
        "id": "f0Ei8W7jUj8B",
        "outputId": "b30f7438-f234-4beb-c184-d52ce7b54f0c"
      },
      "execution_count": null,
      "outputs": [
        {
          "output_type": "execute_result",
          "data": {
            "text/plain": [
              "emotion\n",
              "joy        5362\n",
              "sadness    4666\n",
              "anger      2159\n",
              "fear       1937\n",
              "Name: count, dtype: int64"
            ],
            "text/html": [
              "<div>\n",
              "<style scoped>\n",
              "    .dataframe tbody tr th:only-of-type {\n",
              "        vertical-align: middle;\n",
              "    }\n",
              "\n",
              "    .dataframe tbody tr th {\n",
              "        vertical-align: top;\n",
              "    }\n",
              "\n",
              "    .dataframe thead th {\n",
              "        text-align: right;\n",
              "    }\n",
              "</style>\n",
              "<table border=\"1\" class=\"dataframe\">\n",
              "  <thead>\n",
              "    <tr style=\"text-align: right;\">\n",
              "      <th></th>\n",
              "      <th>count</th>\n",
              "    </tr>\n",
              "    <tr>\n",
              "      <th>emotion</th>\n",
              "      <th></th>\n",
              "    </tr>\n",
              "  </thead>\n",
              "  <tbody>\n",
              "    <tr>\n",
              "      <th>joy</th>\n",
              "      <td>5362</td>\n",
              "    </tr>\n",
              "    <tr>\n",
              "      <th>sadness</th>\n",
              "      <td>4666</td>\n",
              "    </tr>\n",
              "    <tr>\n",
              "      <th>anger</th>\n",
              "      <td>2159</td>\n",
              "    </tr>\n",
              "    <tr>\n",
              "      <th>fear</th>\n",
              "      <td>1937</td>\n",
              "    </tr>\n",
              "  </tbody>\n",
              "</table>\n",
              "</div><br><label><b>dtype:</b> int64</label>"
            ]
          },
          "metadata": {},
          "execution_count": 7
        }
      ]
    },
    {
      "cell_type": "markdown",
      "source": [
        "# **Preprocessing**"
      ],
      "metadata": {
        "id": "albxdwQAE-eF"
      }
    },
    {
      "cell_type": "code",
      "source": [
        "import re\n",
        "import nltk\n",
        "from nltk.corpus import stopwords\n",
        "from nltk.stem import WordNetLemmatizer\n",
        "from nltk.stem import PorterStemmer\n",
        "from textblob import TextBlob\n",
        "\n",
        "nltk.download('wordnet')\n",
        "nltk.download('omw-1.4')\n",
        "nltk.download('stopwords')\n",
        "stop_words = stopwords.words('english')"
      ],
      "metadata": {
        "colab": {
          "base_uri": "https://localhost:8080/"
        },
        "id": "WnreSdoXJ60U",
        "outputId": "76e9863a-900e-4a30-f1d6-35dd40697b41"
      },
      "execution_count": null,
      "outputs": [
        {
          "output_type": "stream",
          "name": "stderr",
          "text": [
            "[nltk_data] Downloading package wordnet to /root/nltk_data...\n",
            "[nltk_data]   Package wordnet is already up-to-date!\n",
            "[nltk_data] Downloading package omw-1.4 to /root/nltk_data...\n",
            "[nltk_data]   Package omw-1.4 is already up-to-date!\n",
            "[nltk_data] Downloading package stopwords to /root/nltk_data...\n",
            "[nltk_data]   Package stopwords is already up-to-date!\n"
          ]
        }
      ]
    },
    {
      "cell_type": "code",
      "source": [
        "from tensorflow.keras.preprocessing.text import Tokenizer\n",
        "from sklearn.feature_extraction.text import CountVectorizer\n",
        "from tensorflow.keras.preprocessing.sequence import pad_sequences\n",
        "from sklearn.feature_extraction.text import TfidfVectorizer\n",
        "import torch\n",
        "\n",
        "class PreProcessor:\n",
        "    def __init__(self, delete_not_letters=False, lower=False, delete_stop_word=False,\n",
        "                 lemmatization=False, stemming=False, tokenizing = False, tfIdf = False, countVectorizing = False):\n",
        "      self.lower = lower\n",
        "      self.lemmatization = lemmatization\n",
        "      self.stemming = stemming\n",
        "      self.tokenizing = tokenizing\n",
        "      self.tfIdf = tfIdf\n",
        "      assert not (lemmatization and stemming), 'You must choose either lemmatization or stemming'\n",
        "      self.delete_not_letters = delete_not_letters\n",
        "      self.delete_stop_word = delete_stop_word\n",
        "      self.countVectorizing = countVectorizing\n",
        "\n",
        "      self.stop_words = set(stopwords.words('english')) if delete_stop_word else None\n",
        "      self.lemmatizer = WordNetLemmatizer() if lemmatization else None\n",
        "      self.stemmer = PorterStemmer() if stemming else None\n",
        "      self.tokenizer = None\n",
        "      self.tf_idf_vectorizer = None\n",
        "      self.count_vectorizer = None\n",
        "      self.max_length = 0\n",
        "\n",
        "    def process_text(self, text):\n",
        "      words = text.split()\n",
        "\n",
        "      processed_words = []\n",
        "      for word in words:\n",
        "          if self.lower:\n",
        "              word = word.lower()\n",
        "          if self.delete_stop_word and word in self.stop_words:\n",
        "              continue\n",
        "          if self.delete_not_letters:\n",
        "              word = re.sub(r'[^a-zA-Z]', '', word)\n",
        "              if not word:\n",
        "                  continue\n",
        "          if self.lemmatization:\n",
        "              word = self.lemmatizer.lemmatize(word)\n",
        "          elif self.stemming:\n",
        "              word = self.stemmer.stem(word)\n",
        "\n",
        "          processed_words.append(word)\n",
        "\n",
        "      proccesed_text = ' '.join(processed_words)\n",
        "\n",
        "      return proccesed_text\n",
        "\n",
        "    def process_dataset(self, dataset, mode = 'train'):\n",
        "      processed_dataset = [self.process_text(text) for text in dataset]\n",
        "\n",
        "      assert (mode == 'train' or mode == 'val'), 'mode must be a \\'train\\' or \\'val\\''\n",
        "      if self.tokenizing:\n",
        "        if mode == 'train':\n",
        "          self.tokenizer = Tokenizer(num_words = 1000)\n",
        "          self.tokenizer.fit_on_texts(processed_dataset)\n",
        "\n",
        "          processed_dataset = self.tokenizer.texts_to_sequences(processed_dataset)\n",
        "\n",
        "          self.max_length = max([len(text) for text in processed_dataset])\n",
        "\n",
        "          processed_dataset = pad_sequences(processed_dataset, padding=\"pre\", maxlen=self.max_length)\n",
        "\n",
        "          return torch.Tensor(processed_dataset).int()\n",
        "        else:\n",
        "          assert self.tokenizer != None, 'you must run with train mode firstly'\n",
        "\n",
        "          processed_dataset = self.tokenizer.texts_to_sequences(processed_dataset)\n",
        "          processed_dataset = pad_sequences(processed_dataset, padding=\"pre\", maxlen=self.max_length)\n",
        "          return torch.Tensor(processed_dataset).int()\n",
        "      elif self.tfIdf:\n",
        "        if mode == 'train':\n",
        "          self.tf_idf_vectorizer = TfidfVectorizer(max_features = 3000)\n",
        "          processed_dataset = self.tf_idf_vectorizer.fit_transform(processed_dataset)\n",
        "          return processed_dataset\n",
        "        else:\n",
        "          assert self.tf_idf_vectorizer != None, 'you must run with train mode firstly'\n",
        "          processed_dataset = self.tf_idf_vectorizer.transform(processed_dataset)\n",
        "          return processed_dataset\n",
        "      elif self.countVectorizing:\n",
        "        if mode == 'train':\n",
        "          self.count_vectorizer = CountVectorizer(max_features=3000)\n",
        "          processed_dataset = self.count_vectorizer.fit_transform(processed_dataset)\n",
        "          return processed_dataset\n",
        "        else:\n",
        "          assert self.count_vectorizer != None, 'you must run with train mode firstly'\n",
        "          processed_dataset = self.count_vectorizer.transform(processed_dataset)\n",
        "          return processed_dataset\n",
        "      else:\n",
        "        return processed_dataset"
      ],
      "metadata": {
        "id": "9DHh-hNTFD0N"
      },
      "execution_count": null,
      "outputs": []
    },
    {
      "cell_type": "code",
      "source": [
        "X = train_file['text']\n",
        "y = train_file['emotion']\n",
        "\n",
        "X_val = val_file['text']\n",
        "y_val = val_file['emotion']"
      ],
      "metadata": {
        "id": "ZEg6ZWLSDa-y"
      },
      "execution_count": null,
      "outputs": []
    },
    {
      "cell_type": "code",
      "source": [
        "pre_processor = PreProcessor(lower = True, lemmatization=True, delete_stop_word=True, delete_not_letters = True, tokenizing = True)\n",
        "\n",
        "X_proccesed = pre_processor.process_dataset(X)\n",
        "X_val_proccesed = pre_processor.process_dataset(X_val, mode = 'val')"
      ],
      "metadata": {
        "id": "jBGXdLsFEb17"
      },
      "execution_count": null,
      "outputs": []
    },
    {
      "cell_type": "code",
      "source": [
        "X_proccesed[0:4]"
      ],
      "metadata": {
        "colab": {
          "base_uri": "https://localhost:8080/"
        },
        "id": "o1140RCBhxBU",
        "outputId": "e050947a-585c-46c2-c79f-918c05eca241"
      },
      "execution_count": null,
      "outputs": [
        {
          "output_type": "execute_result",
          "data": {
            "text/plain": [
              "tensor([[  0,   0,   0,   0,   0,   0,   0,   0,   0,   0,   0,   0,   0,   0,\n",
              "           0,   0,   0,   0,   0,   0,   0,   0,   0,   0,   0,   0,  51,   1,\n",
              "         499],\n",
              "        [  0,   0,   0,   0,   0,   0,   0,   0,   0,   0,   0,   0,   0,   0,\n",
              "           0,   0,   0,   0,   0,   0,   0,   0,  30,   2, 326, 386,  44,  61,\n",
              "         182],\n",
              "        [  0,   0,   0,   0,   0,   0,   0,   0,   0,   0,   0,   0,   0,   0,\n",
              "           0,   0,   0,   0,   0,   0,   0,   0,   0,   4, 430, 137,   1, 327,\n",
              "         295],\n",
              "        [  0,   0,   0,   0,   0,   0,   0,   0,   0,   0,   0,   0,   0,   0,\n",
              "           0,   0,   0,   0,   0,   0,   0,   0,   0,   0,   0,   0,   0,   2,\n",
              "         850]], dtype=torch.int32)"
            ]
          },
          "metadata": {},
          "execution_count": 12
        }
      ]
    },
    {
      "cell_type": "code",
      "source": [
        "model = BERT_based_classificator()"
      ],
      "metadata": {
        "id": "MrJZdKHaZdX5"
      },
      "execution_count": null,
      "outputs": []
    },
    {
      "cell_type": "code",
      "source": [
        "from sklearn.preprocessing import LabelEncoder\n",
        "\n",
        "encoder = LabelEncoder()\n",
        "\n",
        "y_encoded = encoder.fit_transform(y)\n",
        "y_encoded = torch.Tensor(y_encoded)\n",
        "\n",
        "y_val_encoded = encoder.transform(y_val)\n",
        "y_val_encoded = torch.Tensor(y_val_encoded)"
      ],
      "metadata": {
        "id": "V386c8WiLUfh"
      },
      "execution_count": null,
      "outputs": []
    },
    {
      "cell_type": "code",
      "source": [
        "X_processed = model.tokenize(X)"
      ],
      "metadata": {
        "id": "yDGSq5KhQ5TT"
      },
      "execution_count": null,
      "outputs": []
    },
    {
      "cell_type": "code",
      "source": [
        "X_processed = tokenizer(list(X), return_tensors = 'pt', padding = True)"
      ],
      "metadata": {
        "id": "9mdJlq1kRF4b"
      },
      "execution_count": null,
      "outputs": []
    },
    {
      "cell_type": "code",
      "source": [
        "X_processed[\"input_ids\"][0:10]"
      ],
      "metadata": {
        "id": "wwnrdNiZTdFm"
      },
      "execution_count": null,
      "outputs": []
    },
    {
      "cell_type": "code",
      "source": [
        "answers = model(input_ids = X_processed[\"input_ids\"][0:10], attention_mask = X_processed[\"attention_mask\"][0:10])"
      ],
      "metadata": {
        "id": "RIcXe_K1Re5H"
      },
      "execution_count": null,
      "outputs": []
    },
    {
      "cell_type": "code",
      "source": [
        "answers"
      ],
      "metadata": {
        "colab": {
          "base_uri": "https://localhost:8080/"
        },
        "id": "lcFojnVjY6Pq",
        "outputId": "d3ef4fec-28ac-4d66-8387-6d463d0bd4c7"
      },
      "execution_count": null,
      "outputs": [
        {
          "output_type": "execute_result",
          "data": {
            "text/plain": [
              "BaseModelOutput(last_hidden_state=tensor([[[-0.1168,  0.0986, -0.1296,  ...,  0.0587,  0.3543,  0.4042],\n",
              "         [ 0.1325,  0.1516, -0.1169,  ..., -0.1119,  0.5562,  0.2908],\n",
              "         [-0.1053,  0.2862,  0.1958,  ...,  0.0241,  0.0577, -0.3627],\n",
              "         ...,\n",
              "         [-0.1576,  0.0898, -0.0468,  ...,  0.0662, -0.0555, -0.3040],\n",
              "         [-0.1641,  0.0944, -0.0331,  ...,  0.0501, -0.0445, -0.3198],\n",
              "         [-0.2448,  0.1373,  0.3082,  ..., -0.0214,  0.1674, -0.1861]],\n",
              "\n",
              "        [[-0.0324, -0.0323, -0.1957,  ..., -0.1747,  0.3546,  0.3028],\n",
              "         [ 0.2920,  0.2514, -0.3510,  ..., -0.0705,  0.4476,  0.3433],\n",
              "         [ 0.1124,  0.2768, -0.1371,  ..., -0.3548,  0.6641,  0.0977],\n",
              "         ...,\n",
              "         [-0.0134,  0.1927, -0.1303,  ..., -0.0439,  0.1111, -0.1301],\n",
              "         [-0.0230,  0.1415, -0.1237,  ...,  0.0382,  0.0511, -0.1063],\n",
              "         [-0.0700,  0.0209, -0.0227,  ...,  0.0192,  0.0657, -0.1047]],\n",
              "\n",
              "        [[ 0.0397,  0.2022,  0.1423,  ..., -0.1141,  0.3394,  0.3958],\n",
              "         [-0.1390,  0.4226,  0.8182,  ..., -0.1340,  0.4293,  1.0800],\n",
              "         [-0.0114, -0.2968,  0.1565,  ...,  0.0639, -0.1696,  0.4404],\n",
              "         ...,\n",
              "         [ 0.0713,  0.1562,  0.2643,  ...,  0.0276, -0.1220,  0.1061],\n",
              "         [ 0.1126,  0.1308,  0.2371,  ...,  0.1203, -0.1391,  0.1444],\n",
              "         [ 0.1322, -0.0190,  0.1495,  ...,  0.0352, -0.2248,  0.0743]],\n",
              "\n",
              "        ...,\n",
              "\n",
              "        [[ 0.1811,  0.1805, -0.0987,  ...,  0.1216,  0.2284,  0.3132],\n",
              "         [ 0.4079,  0.4958, -0.2706,  ...,  0.2860,  0.5424,  0.4555],\n",
              "         [-0.0953,  0.5693,  0.2011,  ...,  0.1420,  0.0395,  0.6910],\n",
              "         ...,\n",
              "         [ 0.1931, -0.0334, -0.0505,  ...,  0.3592,  0.0305, -0.1115],\n",
              "         [ 0.2013,  0.0186, -0.0420,  ...,  0.3313,  0.0142, -0.1159],\n",
              "         [ 0.2055,  0.2022,  0.1870,  ...,  0.1043,  0.0377, -0.0796]],\n",
              "\n",
              "        [[ 0.2109,  0.0586, -0.1780,  ...,  0.0167,  0.2549,  0.3315],\n",
              "         [ 0.6017,  0.2824, -0.4664,  ...,  0.1739,  0.6482, -0.0233],\n",
              "         [ 0.3158,  0.5407,  0.0921,  ...,  0.0615,  0.1494, -0.2884],\n",
              "         ...,\n",
              "         [ 0.1473,  0.2794,  0.0651,  ...,  0.0491, -0.2746, -0.1660],\n",
              "         [ 0.0303,  0.1022,  0.0844,  ...,  0.0703, -0.2916, -0.1434],\n",
              "         [-0.0374,  0.0302,  0.1112,  ...,  0.0711, -0.2751, -0.1442]],\n",
              "\n",
              "        [[ 0.0293,  0.0473,  0.1404,  ..., -0.0475,  0.3036,  0.2933],\n",
              "         [ 0.4136,  0.1971, -0.0358,  ...,  0.1681,  0.7562,  0.2331],\n",
              "         [ 0.1280,  0.4464,  0.0898,  ..., -0.4062,  0.2552, -0.0087],\n",
              "         ...,\n",
              "         [ 0.0628,  0.2020,  0.2683,  ...,  0.0411, -0.0107, -0.0270],\n",
              "         [ 0.0047,  0.0660,  0.3042,  ...,  0.1115,  0.0118,  0.0103],\n",
              "         [-0.1063, -0.0052,  0.2874,  ...,  0.1555, -0.0450, -0.0612]]],\n",
              "       grad_fn=<NativeLayerNormBackward0>), hidden_states=None, attentions=None)"
            ]
          },
          "metadata": {},
          "execution_count": 24
        }
      ]
    },
    {
      "cell_type": "markdown",
      "source": [
        "# **LSTM**\n"
      ],
      "metadata": {
        "id": "9JEVczpjZ6Jl"
      }
    },
    {
      "cell_type": "code",
      "source": [
        "import torch.nn as nn\n",
        "\n",
        "class MyLSTM(nn.Module):\n",
        "  def __init__(self):\n",
        "    super().__init__()\n",
        "    self.embed = nn.Embedding(1000, 128)\n",
        "    self.lstm = nn.LSTM(128, 128, 1, batch_first=True)\n",
        "    self.dropout = nn.Dropout(p= 0.3)\n",
        "    self.linear = nn.Linear(128, 6)\n",
        "\n",
        "  def forward(self, x):\n",
        "    x = self.embed(x)\n",
        "\n",
        "    x, (h_n, c_n) = self.lstm(x)\n",
        "\n",
        "    x = x[:, -1, :]\n",
        "\n",
        "    x = self.dropout(x)\n",
        "\n",
        "    x = self.linear(x)\n",
        "    return x"
      ],
      "metadata": {
        "id": "iQH2BMB1iUxJ"
      },
      "execution_count": null,
      "outputs": []
    },
    {
      "cell_type": "markdown",
      "source": [
        "# **Training LSTM**\n"
      ],
      "metadata": {
        "id": "ykk5edwEZ7d2"
      }
    },
    {
      "cell_type": "code",
      "source": [
        "from sklearn.preprocessing import LabelEncoder"
      ],
      "metadata": {
        "id": "7LJKMK_wqpCp"
      },
      "execution_count": null,
      "outputs": []
    },
    {
      "cell_type": "code",
      "source": [
        "label_encoder = LabelEncoder()\n",
        "\n",
        "y_encoded = label_encoder.fit_transform(y)\n",
        "y_encoded = torch.Tensor(y_encoded)\n",
        "\n",
        "y_val_encoded = label_encoder.transform(y_val)\n",
        "y_val_encoded = torch.Tensor(y_val_encoded)\n"
      ],
      "metadata": {
        "id": "QZBiYg_AqqC_"
      },
      "execution_count": null,
      "outputs": []
    },
    {
      "cell_type": "code",
      "source": [
        "from torch.utils.data import DataLoader, TensorDataset\n",
        "\n",
        "train_dataset = TensorDataset(X_proccesed, y_encoded)\n",
        "val_dataset = TensorDataset(X_val_proccesed, y_val_encoded)\n",
        "\n",
        "\n",
        "batch_size = 32\n",
        "train_dataloader = DataLoader(train_dataset, batch_size=batch_size, shuffle = True)\n",
        "val_dataloader = DataLoader(val_dataset, batch_size=batch_size)"
      ],
      "metadata": {
        "id": "384Fqe81rIQU"
      },
      "execution_count": null,
      "outputs": []
    },
    {
      "cell_type": "code",
      "source": [
        "X_proccesed.shape, y_encoded.shape"
      ],
      "metadata": {
        "id": "T6ej924u1dAT"
      },
      "execution_count": null,
      "outputs": []
    },
    {
      "cell_type": "code",
      "source": [
        "import torch.optim as optim\n",
        "\n",
        "model = MyLSTM()\n",
        "\n",
        "loss_fn = nn.CrossEntropyLoss()\n",
        "\n",
        "optimizer = optim.Adam(model.parameters(), lr = 0.001)"
      ],
      "metadata": {
        "id": "JkCRleVTtDKD"
      },
      "execution_count": null,
      "outputs": []
    },
    {
      "cell_type": "code",
      "source": [
        "import numpy as np\n",
        "\n",
        "def getPredict(output):\n",
        "  return torch.argmax(output, dim=1)"
      ],
      "metadata": {
        "id": "CbjKJxg3Amkb"
      },
      "execution_count": null,
      "outputs": []
    },
    {
      "cell_type": "code",
      "source": [
        "num_epoch = 10\n",
        "\n",
        "for epoch in range(num_epoch):\n",
        "    running_loss = 0.0\n",
        "    correct_predictions_train = 0\n",
        "    total_predictions_train = 0\n",
        "\n",
        "    model.train()\n",
        "    for data, label in train_dataloader:\n",
        "        data, label = data.int(), label.long()\n",
        "        optimizer.zero_grad()\n",
        "        output = model(data)\n",
        "        loss = loss_fn(output, label)\n",
        "        loss.backward()\n",
        "        optimizer.step()\n",
        "\n",
        "        running_loss += loss.item()\n",
        "\n",
        "        labels_pred_train = getPredict(output)\n",
        "        correct_predictions_train += (labels_pred_train == label).sum().item()\n",
        "        total_predictions_train += label.size(0)\n",
        "\n",
        "    train_accuracy = correct_predictions_train / total_predictions_train\n",
        "\n",
        "    model.eval()\n",
        "    valid_loss = 0.0\n",
        "    correct_predictions = 0\n",
        "    total_predictions = 0\n",
        "    with torch.no_grad():\n",
        "        for inputs, labels in val_dataloader:\n",
        "            inputs, labels = inputs.int(), labels.long()\n",
        "            outputs = model(inputs)\n",
        "            loss = loss_fn(outputs, labels)\n",
        "            valid_loss += loss.item()\n",
        "\n",
        "            labels_pred = getPredict(outputs)\n",
        "            correct_predictions += (labels_pred == labels).sum().item()\n",
        "            total_predictions += labels.size(0)\n",
        "\n",
        "    valid_loss /= len(val_dataloader)\n",
        "    accuracy = correct_predictions / total_predictions\n",
        "\n",
        "    print(f\"Epoch {epoch+1}/{num_epoch}\\nTraining Loss: {running_loss:.4f}\\nTraining Accuracy: {train_accuracy:.4f}\")\n",
        "    print(f\"Validation Loss: {valid_loss:.4f}\\nValidation Accuracy: {accuracy:.4f}\")"
      ],
      "metadata": {
        "id": "KueohQ2rszVL"
      },
      "execution_count": null,
      "outputs": []
    },
    {
      "cell_type": "markdown",
      "source": [
        "# **countVectorizing**"
      ],
      "metadata": {
        "id": "kIMQc5TuyKab"
      }
    },
    {
      "cell_type": "code",
      "source": [
        "from sklearn.linear_model import LogisticRegression\n",
        "from sklearn.ensemble import RandomForestClassifier\n",
        "from sklearn.svm import SVC\n",
        "from sklearn.metrics import accuracy_score\n",
        "\n",
        "pre_processor = PreProcessor(delete_not_letters=True, lower=True, delete_stop_word=True, lemmatization=True, countVectorizing=True)\n",
        "\n",
        "X_processed = pre_processor.process_dataset(X, mode = 'train')\n",
        "X_val_processed = pre_processor.process_dataset(X_val, mode = 'val')"
      ],
      "metadata": {
        "id": "hQ1Ou6ZTuLse"
      },
      "execution_count": null,
      "outputs": []
    },
    {
      "cell_type": "code",
      "source": [
        "svm = SVC(kernel=\"linear\",gamma=1, C=.5, random_state=42)\n",
        "\n",
        "svm.fit(X_processed, y)\n",
        "\n",
        "y_pred = svm.predict(X_val_processed)\n",
        "\n",
        "accuracy = accuracy_score(y_val, y_pred)\n",
        "\n",
        "print(accuracy)"
      ],
      "metadata": {
        "id": "tp4vz8Zqnf0j",
        "colab": {
          "base_uri": "https://localhost:8080/"
        },
        "outputId": "1bc846a9-0027-4317-acb3-03d51c1d985b"
      },
      "execution_count": null,
      "outputs": [
        {
          "output_type": "stream",
          "name": "stdout",
          "text": [
            "0.9287765651924181\n"
          ]
        }
      ]
    },
    {
      "cell_type": "code",
      "source": [
        "lgr = LogisticRegression()\n",
        "\n",
        "lgr.fit(X_processed, y)\n",
        "\n",
        "y_pred = lgr.predict(X_val_processed)\n",
        "\n",
        "accuracy = accuracy_score(y_val, y_pred)\n",
        "\n",
        "print(accuracy)"
      ],
      "metadata": {
        "colab": {
          "base_uri": "https://localhost:8080/"
        },
        "id": "Gv2uzq9MvtmC",
        "outputId": "f675d13d-47b8-4537-c166-597349b27139"
      },
      "execution_count": null,
      "outputs": [
        {
          "output_type": "stream",
          "name": "stdout",
          "text": [
            "0.9316484778862723\n"
          ]
        }
      ]
    },
    {
      "cell_type": "code",
      "source": [
        "rfc = RandomForestClassifier()\n",
        "\n",
        "rfc.fit(X_processed, y)\n",
        "\n",
        "y_pred = rfc.predict(X_val_processed)\n",
        "\n",
        "accuracy = accuracy_score(y_val, y_pred)\n",
        "\n",
        "print(accuracy)"
      ],
      "metadata": {
        "colab": {
          "base_uri": "https://localhost:8080/"
        },
        "id": "fjYqNr-5yDP1",
        "outputId": "49c78bc6-b0e6-4af6-a835-ed031ed46035"
      },
      "execution_count": null,
      "outputs": [
        {
          "output_type": "stream",
          "name": "stdout",
          "text": [
            "0.9287765651924181\n"
          ]
        }
      ]
    },
    {
      "cell_type": "code",
      "source": [
        "from sklearn.ensemble import VotingClassifier\n",
        "\n",
        "estimators=[\n",
        "        (\"svm\", svm),\n",
        "        (\"lgr\", lgr),\n",
        "        (\"rfc\", rfc)]\n",
        "\n",
        "voting_classifier = VotingClassifier(estimators, voting='hard')\n",
        "\n",
        "voting_classifier.fit(X_processed, y)\n",
        "\n",
        "y_pred = voting_classifier.predict(X_val_processed)\n",
        "\n",
        "accuracy = accuracy_score(y_val, y_pred)"
      ],
      "metadata": {
        "id": "DZMZ6kIjzLs1"
      },
      "execution_count": null,
      "outputs": []
    },
    {
      "cell_type": "code",
      "source": [
        "accuracy"
      ],
      "metadata": {
        "colab": {
          "base_uri": "https://localhost:8080/"
        },
        "id": "JgqS1z5f_c7I",
        "outputId": "4824ebc4-21e3-488f-ee19-3d707eaaa486"
      },
      "execution_count": null,
      "outputs": [
        {
          "output_type": "execute_result",
          "data": {
            "text/plain": [
              "0.9327972429638139"
            ]
          },
          "metadata": {},
          "execution_count": 26
        }
      ]
    }
  ]
}